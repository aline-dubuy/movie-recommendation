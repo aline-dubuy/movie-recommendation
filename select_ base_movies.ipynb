{
 "cells": [
  {
   "cell_type": "code",
   "execution_count": 1,
   "metadata": {},
   "outputs": [],
   "source": [
    "import pandas as pd\n",
    "import numpy as np"
   ]
  },
  {
   "cell_type": "markdown",
   "metadata": {},
   "source": [
    "### Import des datasets"
   ]
  },
  {
   "cell_type": "code",
   "execution_count": 2,
   "metadata": {},
   "outputs": [
    {
     "data": {
      "text/html": [
       "<div>\n",
       "<style scoped>\n",
       "    .dataframe tbody tr th:only-of-type {\n",
       "        vertical-align: middle;\n",
       "    }\n",
       "\n",
       "    .dataframe tbody tr th {\n",
       "        vertical-align: top;\n",
       "    }\n",
       "\n",
       "    .dataframe thead th {\n",
       "        text-align: right;\n",
       "    }\n",
       "</style>\n",
       "<table border=\"1\" class=\"dataframe\">\n",
       "  <thead>\n",
       "    <tr style=\"text-align: right;\">\n",
       "      <th></th>\n",
       "      <th>tconst</th>\n",
       "      <th>titleType</th>\n",
       "      <th>primaryTitle</th>\n",
       "      <th>originalTitle</th>\n",
       "      <th>isAdult</th>\n",
       "      <th>startYear</th>\n",
       "      <th>endYear</th>\n",
       "      <th>runtimeMinutes</th>\n",
       "      <th>genres</th>\n",
       "    </tr>\n",
       "  </thead>\n",
       "  <tbody>\n",
       "    <tr>\n",
       "      <th>0</th>\n",
       "      <td>tt0000001</td>\n",
       "      <td>short</td>\n",
       "      <td>Carmencita</td>\n",
       "      <td>Carmencita</td>\n",
       "      <td>0</td>\n",
       "      <td>1894</td>\n",
       "      <td>\\N</td>\n",
       "      <td>1</td>\n",
       "      <td>Documentary,Short</td>\n",
       "    </tr>\n",
       "    <tr>\n",
       "      <th>1</th>\n",
       "      <td>tt0000002</td>\n",
       "      <td>short</td>\n",
       "      <td>Le clown et ses chiens</td>\n",
       "      <td>Le clown et ses chiens</td>\n",
       "      <td>0</td>\n",
       "      <td>1892</td>\n",
       "      <td>\\N</td>\n",
       "      <td>5</td>\n",
       "      <td>Animation,Short</td>\n",
       "    </tr>\n",
       "    <tr>\n",
       "      <th>2</th>\n",
       "      <td>tt0000003</td>\n",
       "      <td>short</td>\n",
       "      <td>Pauvre Pierrot</td>\n",
       "      <td>Pauvre Pierrot</td>\n",
       "      <td>0</td>\n",
       "      <td>1892</td>\n",
       "      <td>\\N</td>\n",
       "      <td>4</td>\n",
       "      <td>Animation,Comedy,Romance</td>\n",
       "    </tr>\n",
       "    <tr>\n",
       "      <th>3</th>\n",
       "      <td>tt0000004</td>\n",
       "      <td>short</td>\n",
       "      <td>Un bon bock</td>\n",
       "      <td>Un bon bock</td>\n",
       "      <td>0</td>\n",
       "      <td>1892</td>\n",
       "      <td>\\N</td>\n",
       "      <td>12</td>\n",
       "      <td>Animation,Short</td>\n",
       "    </tr>\n",
       "    <tr>\n",
       "      <th>4</th>\n",
       "      <td>tt0000005</td>\n",
       "      <td>short</td>\n",
       "      <td>Blacksmith Scene</td>\n",
       "      <td>Blacksmith Scene</td>\n",
       "      <td>0</td>\n",
       "      <td>1893</td>\n",
       "      <td>\\N</td>\n",
       "      <td>1</td>\n",
       "      <td>Comedy,Short</td>\n",
       "    </tr>\n",
       "  </tbody>\n",
       "</table>\n",
       "</div>"
      ],
      "text/plain": [
       "      tconst titleType            primaryTitle           originalTitle  \\\n",
       "0  tt0000001     short              Carmencita              Carmencita   \n",
       "1  tt0000002     short  Le clown et ses chiens  Le clown et ses chiens   \n",
       "2  tt0000003     short          Pauvre Pierrot          Pauvre Pierrot   \n",
       "3  tt0000004     short             Un bon bock             Un bon bock   \n",
       "4  tt0000005     short        Blacksmith Scene        Blacksmith Scene   \n",
       "\n",
       "  isAdult startYear endYear runtimeMinutes                    genres  \n",
       "0       0      1894      \\N              1         Documentary,Short  \n",
       "1       0      1892      \\N              5           Animation,Short  \n",
       "2       0      1892      \\N              4  Animation,Comedy,Romance  \n",
       "3       0      1892      \\N             12           Animation,Short  \n",
       "4       0      1893      \\N              1              Comedy,Short  "
      ]
     },
     "execution_count": 2,
     "metadata": {},
     "output_type": "execute_result"
    }
   ],
   "source": [
    "title_basics = pd.read_csv(\"title.basics.tsv.gz\", sep = \"\\t\", low_memory=False)\n",
    "title_basics.head()"
   ]
  },
  {
   "cell_type": "code",
   "execution_count": 3,
   "metadata": {},
   "outputs": [
    {
     "data": {
      "text/html": [
       "<div>\n",
       "<style scoped>\n",
       "    .dataframe tbody tr th:only-of-type {\n",
       "        vertical-align: middle;\n",
       "    }\n",
       "\n",
       "    .dataframe tbody tr th {\n",
       "        vertical-align: top;\n",
       "    }\n",
       "\n",
       "    .dataframe thead th {\n",
       "        text-align: right;\n",
       "    }\n",
       "</style>\n",
       "<table border=\"1\" class=\"dataframe\">\n",
       "  <thead>\n",
       "    <tr style=\"text-align: right;\">\n",
       "      <th></th>\n",
       "      <th>tconst</th>\n",
       "      <th>averageRating</th>\n",
       "      <th>numVotes</th>\n",
       "    </tr>\n",
       "  </thead>\n",
       "  <tbody>\n",
       "    <tr>\n",
       "      <th>0</th>\n",
       "      <td>tt0000001</td>\n",
       "      <td>5.7</td>\n",
       "      <td>1829</td>\n",
       "    </tr>\n",
       "    <tr>\n",
       "      <th>1</th>\n",
       "      <td>tt0000002</td>\n",
       "      <td>6.0</td>\n",
       "      <td>236</td>\n",
       "    </tr>\n",
       "    <tr>\n",
       "      <th>2</th>\n",
       "      <td>tt0000003</td>\n",
       "      <td>6.5</td>\n",
       "      <td>1589</td>\n",
       "    </tr>\n",
       "    <tr>\n",
       "      <th>3</th>\n",
       "      <td>tt0000004</td>\n",
       "      <td>6.0</td>\n",
       "      <td>153</td>\n",
       "    </tr>\n",
       "    <tr>\n",
       "      <th>4</th>\n",
       "      <td>tt0000005</td>\n",
       "      <td>6.2</td>\n",
       "      <td>2405</td>\n",
       "    </tr>\n",
       "  </tbody>\n",
       "</table>\n",
       "</div>"
      ],
      "text/plain": [
       "      tconst  averageRating  numVotes\n",
       "0  tt0000001            5.7      1829\n",
       "1  tt0000002            6.0       236\n",
       "2  tt0000003            6.5      1589\n",
       "3  tt0000004            6.0       153\n",
       "4  tt0000005            6.2      2405"
      ]
     },
     "execution_count": 3,
     "metadata": {},
     "output_type": "execute_result"
    }
   ],
   "source": [
    "title_ratings = pd.read_csv(\"title.ratings.tsv.gz\", sep = \"\\t\")\n",
    "title_ratings.head()"
   ]
  },
  {
   "cell_type": "code",
   "execution_count": 4,
   "metadata": {},
   "outputs": [
    {
     "data": {
      "text/html": [
       "<div>\n",
       "<style scoped>\n",
       "    .dataframe tbody tr th:only-of-type {\n",
       "        vertical-align: middle;\n",
       "    }\n",
       "\n",
       "    .dataframe tbody tr th {\n",
       "        vertical-align: top;\n",
       "    }\n",
       "\n",
       "    .dataframe thead th {\n",
       "        text-align: right;\n",
       "    }\n",
       "</style>\n",
       "<table border=\"1\" class=\"dataframe\">\n",
       "  <thead>\n",
       "    <tr style=\"text-align: right;\">\n",
       "      <th></th>\n",
       "      <th>tconst</th>\n",
       "      <th>directors</th>\n",
       "      <th>writers</th>\n",
       "    </tr>\n",
       "  </thead>\n",
       "  <tbody>\n",
       "    <tr>\n",
       "      <th>0</th>\n",
       "      <td>tt0000001</td>\n",
       "      <td>nm0005690</td>\n",
       "      <td>\\N</td>\n",
       "    </tr>\n",
       "    <tr>\n",
       "      <th>1</th>\n",
       "      <td>tt0000002</td>\n",
       "      <td>nm0721526</td>\n",
       "      <td>\\N</td>\n",
       "    </tr>\n",
       "    <tr>\n",
       "      <th>2</th>\n",
       "      <td>tt0000003</td>\n",
       "      <td>nm0721526</td>\n",
       "      <td>\\N</td>\n",
       "    </tr>\n",
       "    <tr>\n",
       "      <th>3</th>\n",
       "      <td>tt0000004</td>\n",
       "      <td>nm0721526</td>\n",
       "      <td>\\N</td>\n",
       "    </tr>\n",
       "    <tr>\n",
       "      <th>4</th>\n",
       "      <td>tt0000005</td>\n",
       "      <td>nm0005690</td>\n",
       "      <td>\\N</td>\n",
       "    </tr>\n",
       "  </tbody>\n",
       "</table>\n",
       "</div>"
      ],
      "text/plain": [
       "      tconst  directors writers\n",
       "0  tt0000001  nm0005690      \\N\n",
       "1  tt0000002  nm0721526      \\N\n",
       "2  tt0000003  nm0721526      \\N\n",
       "3  tt0000004  nm0721526      \\N\n",
       "4  tt0000005  nm0005690      \\N"
      ]
     },
     "execution_count": 4,
     "metadata": {},
     "output_type": "execute_result"
    }
   ],
   "source": [
    "title_crew = pd.read_csv(\"title.crew.tsv.gz\", sep = \"\\t\")\n",
    "title_crew.head()"
   ]
  },
  {
   "cell_type": "code",
   "execution_count": 5,
   "metadata": {},
   "outputs": [
    {
     "data": {
      "text/html": [
       "<div>\n",
       "<style scoped>\n",
       "    .dataframe tbody tr th:only-of-type {\n",
       "        vertical-align: middle;\n",
       "    }\n",
       "\n",
       "    .dataframe tbody tr th {\n",
       "        vertical-align: top;\n",
       "    }\n",
       "\n",
       "    .dataframe thead th {\n",
       "        text-align: right;\n",
       "    }\n",
       "</style>\n",
       "<table border=\"1\" class=\"dataframe\">\n",
       "  <thead>\n",
       "    <tr style=\"text-align: right;\">\n",
       "      <th></th>\n",
       "      <th>tconst</th>\n",
       "      <th>ordering</th>\n",
       "      <th>nconst</th>\n",
       "      <th>category</th>\n",
       "      <th>job</th>\n",
       "      <th>characters</th>\n",
       "    </tr>\n",
       "  </thead>\n",
       "  <tbody>\n",
       "    <tr>\n",
       "      <th>0</th>\n",
       "      <td>tt0000001</td>\n",
       "      <td>1</td>\n",
       "      <td>nm1588970</td>\n",
       "      <td>self</td>\n",
       "      <td>\\N</td>\n",
       "      <td>[\"Self\"]</td>\n",
       "    </tr>\n",
       "    <tr>\n",
       "      <th>1</th>\n",
       "      <td>tt0000001</td>\n",
       "      <td>2</td>\n",
       "      <td>nm0005690</td>\n",
       "      <td>director</td>\n",
       "      <td>\\N</td>\n",
       "      <td>\\N</td>\n",
       "    </tr>\n",
       "    <tr>\n",
       "      <th>2</th>\n",
       "      <td>tt0000001</td>\n",
       "      <td>3</td>\n",
       "      <td>nm0374658</td>\n",
       "      <td>cinematographer</td>\n",
       "      <td>director of photography</td>\n",
       "      <td>\\N</td>\n",
       "    </tr>\n",
       "    <tr>\n",
       "      <th>3</th>\n",
       "      <td>tt0000002</td>\n",
       "      <td>1</td>\n",
       "      <td>nm0721526</td>\n",
       "      <td>director</td>\n",
       "      <td>\\N</td>\n",
       "      <td>\\N</td>\n",
       "    </tr>\n",
       "    <tr>\n",
       "      <th>4</th>\n",
       "      <td>tt0000002</td>\n",
       "      <td>2</td>\n",
       "      <td>nm1335271</td>\n",
       "      <td>composer</td>\n",
       "      <td>\\N</td>\n",
       "      <td>\\N</td>\n",
       "    </tr>\n",
       "  </tbody>\n",
       "</table>\n",
       "</div>"
      ],
      "text/plain": [
       "      tconst  ordering     nconst         category                      job  \\\n",
       "0  tt0000001         1  nm1588970             self                       \\N   \n",
       "1  tt0000001         2  nm0005690         director                       \\N   \n",
       "2  tt0000001         3  nm0374658  cinematographer  director of photography   \n",
       "3  tt0000002         1  nm0721526         director                       \\N   \n",
       "4  tt0000002         2  nm1335271         composer                       \\N   \n",
       "\n",
       "  characters  \n",
       "0   [\"Self\"]  \n",
       "1         \\N  \n",
       "2         \\N  \n",
       "3         \\N  \n",
       "4         \\N  "
      ]
     },
     "execution_count": 5,
     "metadata": {},
     "output_type": "execute_result"
    }
   ],
   "source": [
    "title_principals = pd.read_csv(\"title.principals.tsv.gz\", sep = \"\\t\")\n",
    "title_principals.head()"
   ]
  },
  {
   "cell_type": "code",
   "execution_count": 6,
   "metadata": {},
   "outputs": [],
   "source": [
    "iter_csv = pd.read_csv('title.akas.tsv.gz', sep = \"\\t\", iterator=True, chunksize=1000)\n",
    "work_akas_FR = pd.concat([chunk[chunk[\"region\"] == \"FR\"] for chunk in iter_csv])\n",
    "# Chargement du dataset akas avec selection de la region FR"
   ]
  },
  {
   "cell_type": "markdown",
   "metadata": {},
   "source": [
    "### Sélection et nettoyage des données sur le datasets title_basics\n",
    "Après analyse de la base, nous nous sommes rendus compte qu'il fallait convertir certaines données pour les utiliser correctement.\n",
    "Nous avons aussi fait le choix de réduire pour réduire les temps de calculs. Il a donc fallu choisir des axes de travail pour réduire la base de manière cohérente. Nous avons ici fait le choix de ne travailler que sur les films (et supprimant donc tout ce qui est court métrage, Séries, TvShow...) et de ne pas garder les films pour adultes"
   ]
  },
  {
   "cell_type": "code",
   "execution_count": 7,
   "metadata": {},
   "outputs": [],
   "source": [
    "# On ne conserve que les films\n",
    "title_basics = title_basics[title_basics[\"titleType\"] == \"movie\"]"
   ]
  },
  {
   "cell_type": "code",
   "execution_count": 8,
   "metadata": {},
   "outputs": [],
   "source": [
    "# On filtre les films IsAdult\n",
    "title_basics = title_basics[title_basics['isAdult'] == '0']"
   ]
  },
  {
   "cell_type": "code",
   "execution_count": 9,
   "metadata": {},
   "outputs": [],
   "source": [
    "# on remplace tous les charactères spéciaux par des Nan\n",
    "title_basics.replace('\\\\N', np.NAN, inplace = True)"
   ]
  },
  {
   "cell_type": "code",
   "execution_count": 10,
   "metadata": {},
   "outputs": [],
   "source": [
    "# on remplace les 'inf' par des Nan\n",
    "title_basics.replace([np.inf, -np.inf], np.nan, inplace=True)"
   ]
  },
  {
   "cell_type": "code",
   "execution_count": 11,
   "metadata": {},
   "outputs": [],
   "source": [
    "#premier nettoyage des nan\n",
    "title_basics.dropna(subset=['startYear', 'runtimeMinutes',\t'genres'], inplace = True)"
   ]
  },
  {
   "cell_type": "code",
   "execution_count": 12,
   "metadata": {},
   "outputs": [],
   "source": [
    "#changer types pour les colonnes starYear, runtime\n",
    "title_basics['startYear'] = title_basics['startYear'].apply(int)\n",
    "title_basics['runtimeMinutes'] = title_basics['runtimeMinutes'].apply(int)"
   ]
  },
  {
   "cell_type": "code",
   "execution_count": 13,
   "metadata": {},
   "outputs": [
    {
     "data": {
      "text/plain": [
       "count    338136.000000\n",
       "mean         90.530298\n",
       "std         135.795773\n",
       "min           1.000000\n",
       "25%          75.000000\n",
       "50%          90.000000\n",
       "75%         100.000000\n",
       "max       51420.000000\n",
       "Name: runtimeMinutes, dtype: float64"
      ]
     },
     "execution_count": 13,
     "metadata": {},
     "output_type": "execute_result"
    }
   ],
   "source": [
    "#analyse de la colonne runtimeMinutes\n",
    "title_basics['runtimeMinutes'].describe()"
   ]
  },
  {
   "cell_type": "code",
   "execution_count": 14,
   "metadata": {},
   "outputs": [
    {
     "data": {
      "text/plain": [
       "<AxesSubplot:>"
      ]
     },
     "execution_count": 14,
     "metadata": {},
     "output_type": "execute_result"
    },
    {
     "data": {
      "image/png": "[encoded data removed]",
      "text/plain": [
       "<Figure size 432x288 with 1 Axes>"
      ]
     },
     "metadata": {
      "needs_background": "light"
     },
     "output_type": "display_data"
    }
   ],
   "source": [
    "title_basics['runtimeMinutes'].plot.box()"
   ]
  },
  {
   "cell_type": "code",
   "execution_count": 15,
   "metadata": {},
   "outputs": [],
   "source": [
    "# on ne garde que les fims entre 58 et 270 minutes (outliers)\n",
    "title_basics = title_basics[(title_basics['runtimeMinutes'] < 270) & (title_basics['runtimeMinutes'] > 58)]"
   ]
  },
  {
   "cell_type": "code",
   "execution_count": 16,
   "metadata": {},
   "outputs": [
    {
     "data": {
      "text/plain": [
       "count    301708.000000\n",
       "mean       1994.793850\n",
       "std          25.638676\n",
       "min        1896.000000\n",
       "25%        1979.000000\n",
       "50%        2006.000000\n",
       "75%        2015.000000\n",
       "max        2025.000000\n",
       "Name: startYear, dtype: float64"
      ]
     },
     "execution_count": 16,
     "metadata": {},
     "output_type": "execute_result"
    }
   ],
   "source": [
    "title_basics['startYear'].describe()"
   ]
  },
  {
   "cell_type": "code",
   "execution_count": 17,
   "metadata": {},
   "outputs": [
    {
     "data": {
      "text/plain": [
       "<AxesSubplot:>"
      ]
     },
     "execution_count": 17,
     "metadata": {},
     "output_type": "execute_result"
    },
    {
     "data": {
      "image/png": "[encoded data removed]",
      "text/plain": [
       "<Figure size 432x288 with 1 Axes>"
      ]
     },
     "metadata": {
      "needs_background": "light"
     },
     "output_type": "display_data"
    }
   ],
   "source": [
    "title_basics['startYear'].plot.box()"
   ]
  },
  {
   "cell_type": "code",
   "execution_count": 18,
   "metadata": {},
   "outputs": [],
   "source": [
    "# On  ne garde que les colonnes qui nous interessent \n",
    "title_basics = title_basics[['tconst','primaryTitle', 'originalTitle', 'genres','startYear','runtimeMinutes']]"
   ]
  },
  {
   "cell_type": "code",
   "execution_count": 19,
   "metadata": {},
   "outputs": [
    {
     "data": {
      "text/plain": [
       "(301708, 6)"
      ]
     },
     "execution_count": 19,
     "metadata": {},
     "output_type": "execute_result"
    }
   ],
   "source": [
    "title_basics.shape"
   ]
  },
  {
   "cell_type": "markdown",
   "metadata": {},
   "source": [
    "### Ajout des ratings et deuxième étape du nettoyage"
   ]
  },
  {
   "cell_type": "code",
   "execution_count": 20,
   "metadata": {},
   "outputs": [
    {
     "data": {
      "text/html": [
       "<div>\n",
       "<style scoped>\n",
       "    .dataframe tbody tr th:only-of-type {\n",
       "        vertical-align: middle;\n",
       "    }\n",
       "\n",
       "    .dataframe tbody tr th {\n",
       "        vertical-align: top;\n",
       "    }\n",
       "\n",
       "    .dataframe thead th {\n",
       "        text-align: right;\n",
       "    }\n",
       "</style>\n",
       "<table border=\"1\" class=\"dataframe\">\n",
       "  <thead>\n",
       "    <tr style=\"text-align: right;\">\n",
       "      <th></th>\n",
       "      <th>tconst</th>\n",
       "      <th>primaryTitle</th>\n",
       "      <th>originalTitle</th>\n",
       "      <th>genres</th>\n",
       "      <th>startYear</th>\n",
       "      <th>runtimeMinutes</th>\n",
       "      <th>averageRating</th>\n",
       "      <th>numVotes</th>\n",
       "    </tr>\n",
       "  </thead>\n",
       "  <tbody>\n",
       "    <tr>\n",
       "      <th>0</th>\n",
       "      <td>tt0000591</td>\n",
       "      <td>The Prodigal Son</td>\n",
       "      <td>L'enfant prodigue</td>\n",
       "      <td>Drama</td>\n",
       "      <td>1907</td>\n",
       "      <td>90</td>\n",
       "      <td>5.2</td>\n",
       "      <td>16.0</td>\n",
       "    </tr>\n",
       "    <tr>\n",
       "      <th>1</th>\n",
       "      <td>tt0000679</td>\n",
       "      <td>The Fairylogue and Radio-Plays</td>\n",
       "      <td>The Fairylogue and Radio-Plays</td>\n",
       "      <td>Adventure,Fantasy</td>\n",
       "      <td>1908</td>\n",
       "      <td>120</td>\n",
       "      <td>5.3</td>\n",
       "      <td>65.0</td>\n",
       "    </tr>\n",
       "    <tr>\n",
       "      <th>2</th>\n",
       "      <td>tt0001790</td>\n",
       "      <td>Les Misérables, Part 1: Jean Valjean</td>\n",
       "      <td>Les misérables - Époque 1: Jean Valjean</td>\n",
       "      <td>Drama</td>\n",
       "      <td>1913</td>\n",
       "      <td>60</td>\n",
       "      <td>6.0</td>\n",
       "      <td>44.0</td>\n",
       "    </tr>\n",
       "    <tr>\n",
       "      <th>3</th>\n",
       "      <td>tt0002026</td>\n",
       "      <td>Anny - Story of a Prostitute</td>\n",
       "      <td>Anny - en gatepiges roman</td>\n",
       "      <td>Drama,Romance</td>\n",
       "      <td>1912</td>\n",
       "      <td>68</td>\n",
       "      <td>4.0</td>\n",
       "      <td>13.0</td>\n",
       "    </tr>\n",
       "    <tr>\n",
       "      <th>4</th>\n",
       "      <td>tt0002101</td>\n",
       "      <td>Cleopatra</td>\n",
       "      <td>Cleopatra</td>\n",
       "      <td>Drama,History</td>\n",
       "      <td>1912</td>\n",
       "      <td>100</td>\n",
       "      <td>5.1</td>\n",
       "      <td>521.0</td>\n",
       "    </tr>\n",
       "  </tbody>\n",
       "</table>\n",
       "</div>"
      ],
      "text/plain": [
       "      tconst                          primaryTitle  \\\n",
       "0  tt0000591                      The Prodigal Son   \n",
       "1  tt0000679        The Fairylogue and Radio-Plays   \n",
       "2  tt0001790  Les Misérables, Part 1: Jean Valjean   \n",
       "3  tt0002026          Anny - Story of a Prostitute   \n",
       "4  tt0002101                             Cleopatra   \n",
       "\n",
       "                             originalTitle             genres  startYear  \\\n",
       "0                        L'enfant prodigue              Drama       1907   \n",
       "1           The Fairylogue and Radio-Plays  Adventure,Fantasy       1908   \n",
       "2  Les misérables - Époque 1: Jean Valjean              Drama       1913   \n",
       "3                Anny - en gatepiges roman      Drama,Romance       1912   \n",
       "4                                Cleopatra      Drama,History       1912   \n",
       "\n",
       "   runtimeMinutes  averageRating  numVotes  \n",
       "0              90            5.2      16.0  \n",
       "1             120            5.3      65.0  \n",
       "2              60            6.0      44.0  \n",
       "3              68            4.0      13.0  \n",
       "4             100            5.1     521.0  "
      ]
     },
     "execution_count": 20,
     "metadata": {},
     "output_type": "execute_result"
    }
   ],
   "source": [
    "title_basics_ratings = pd.merge(title_basics, \n",
    "                                title_ratings, \n",
    "                                how=\"left\", \n",
    "                                left_on='tconst',\n",
    "                                right_on='tconst')\n",
    "title_basics_ratings.head()"
   ]
  },
  {
   "cell_type": "code",
   "execution_count": 21,
   "metadata": {},
   "outputs": [],
   "source": [
    "# On supprime les films qui n'ont pas de rating\n",
    "title_basics_ratings = title_basics_ratings[title_basics_ratings['averageRating'].notna()]"
   ]
  },
  {
   "cell_type": "code",
   "execution_count": 22,
   "metadata": {},
   "outputs": [],
   "source": [
    "#Ajout d'une colonne 'Score IMDB' et réduction à numVotes>1000\n",
    "C = title_basics_ratings['averageRating'].mean()\n",
    "m = 1000\n",
    "title_basics_ratings = title_basics_ratings[title_basics_ratings['numVotes'] >= m]\n",
    "\n",
    "def scoreIMDB(x):\n",
    "    v = x['numVotes']\n",
    "    R = x['averageRating']\n",
    "    return (v/(v+m) * R) + (m/(m+v) * C)\n",
    "\n",
    "title_basics_ratings['scoreIMDB'] = title_basics_ratings.apply(scoreIMDB, axis = 1)"
   ]
  },
  {
   "cell_type": "code",
   "execution_count": 23,
   "metadata": {},
   "outputs": [
    {
     "data": {
      "text/plain": [
       "count    35614.000000\n",
       "mean         6.318805\n",
       "std          0.890654\n",
       "min          1.129631\n",
       "25%          5.808633\n",
       "50%          6.391583\n",
       "75%          6.896119\n",
       "max          9.298717\n",
       "Name: scoreIMDB, dtype: float64"
      ]
     },
     "execution_count": 23,
     "metadata": {},
     "output_type": "execute_result"
    }
   ],
   "source": [
    "#analyse de la colonne 'scoreIMDB'\n",
    "title_basics_ratings['scoreIMDB'].describe()"
   ]
  },
  {
   "cell_type": "markdown",
   "metadata": {},
   "source": [
    "### Ajout du crew pour obtenir la base finale"
   ]
  },
  {
   "cell_type": "code",
   "execution_count": 24,
   "metadata": {},
   "outputs": [
    {
     "data": {
      "text/html": [
       "<div>\n",
       "<style scoped>\n",
       "    .dataframe tbody tr th:only-of-type {\n",
       "        vertical-align: middle;\n",
       "    }\n",
       "\n",
       "    .dataframe tbody tr th {\n",
       "        vertical-align: top;\n",
       "    }\n",
       "\n",
       "    .dataframe thead th {\n",
       "        text-align: right;\n",
       "    }\n",
       "</style>\n",
       "<table border=\"1\" class=\"dataframe\">\n",
       "  <thead>\n",
       "    <tr style=\"text-align: right;\">\n",
       "      <th></th>\n",
       "      <th>tconst</th>\n",
       "      <th>primaryTitle</th>\n",
       "      <th>originalTitle</th>\n",
       "      <th>genres</th>\n",
       "      <th>startYear</th>\n",
       "      <th>runtimeMinutes</th>\n",
       "      <th>averageRating</th>\n",
       "      <th>numVotes</th>\n",
       "      <th>scoreIMDB</th>\n",
       "      <th>directors</th>\n",
       "      <th>writers</th>\n",
       "    </tr>\n",
       "  </thead>\n",
       "  <tbody>\n",
       "    <tr>\n",
       "      <th>0</th>\n",
       "      <td>tt0002130</td>\n",
       "      <td>Dante's Inferno</td>\n",
       "      <td>L'Inferno</td>\n",
       "      <td>Adventure,Drama,Fantasy</td>\n",
       "      <td>1911</td>\n",
       "      <td>71</td>\n",
       "      <td>7.0</td>\n",
       "      <td>2693.0</td>\n",
       "      <td>6.761656</td>\n",
       "      <td>nm0078205,nm0209738,nm0655824</td>\n",
       "      <td>nm0019604</td>\n",
       "    </tr>\n",
       "    <tr>\n",
       "      <th>1</th>\n",
       "      <td>tt0003014</td>\n",
       "      <td>Ingeborg Holm</td>\n",
       "      <td>Ingeborg Holm</td>\n",
       "      <td>Drama</td>\n",
       "      <td>1913</td>\n",
       "      <td>96</td>\n",
       "      <td>7.0</td>\n",
       "      <td>1157.0</td>\n",
       "      <td>6.591931</td>\n",
       "      <td>nm0803705</td>\n",
       "      <td>nm0472236,nm0803705</td>\n",
       "    </tr>\n",
       "    <tr>\n",
       "      <th>2</th>\n",
       "      <td>tt0003037</td>\n",
       "      <td>Fantomas: The Man in Black</td>\n",
       "      <td>Juve contre Fantômas</td>\n",
       "      <td>Crime,Drama</td>\n",
       "      <td>1913</td>\n",
       "      <td>61</td>\n",
       "      <td>7.0</td>\n",
       "      <td>1505.0</td>\n",
       "      <td>6.648621</td>\n",
       "      <td>nm0275421</td>\n",
       "      <td>nm0019855,nm0275421,nm0816232</td>\n",
       "    </tr>\n",
       "    <tr>\n",
       "      <th>3</th>\n",
       "      <td>tt0003165</td>\n",
       "      <td>Fantômas: The Dead Man Who Killed</td>\n",
       "      <td>Le mort qui tue</td>\n",
       "      <td>Crime,Drama,Mystery</td>\n",
       "      <td>1913</td>\n",
       "      <td>90</td>\n",
       "      <td>7.0</td>\n",
       "      <td>1176.0</td>\n",
       "      <td>6.595494</td>\n",
       "      <td>nm0275421</td>\n",
       "      <td>nm0019855,nm0275421,nm0816232</td>\n",
       "    </tr>\n",
       "    <tr>\n",
       "      <th>4</th>\n",
       "      <td>tt0003419</td>\n",
       "      <td>The Student of Prague</td>\n",
       "      <td>Der Student von Prag</td>\n",
       "      <td>Drama,Fantasy,Horror</td>\n",
       "      <td>1913</td>\n",
       "      <td>85</td>\n",
       "      <td>6.5</td>\n",
       "      <td>2010.0</td>\n",
       "      <td>6.373686</td>\n",
       "      <td>nm0753233,nm0917467</td>\n",
       "      <td>nm0263912,nm0210503</td>\n",
       "    </tr>\n",
       "  </tbody>\n",
       "</table>\n",
       "</div>"
      ],
      "text/plain": [
       "      tconst                       primaryTitle         originalTitle  \\\n",
       "0  tt0002130                    Dante's Inferno             L'Inferno   \n",
       "1  tt0003014                      Ingeborg Holm         Ingeborg Holm   \n",
       "2  tt0003037         Fantomas: The Man in Black  Juve contre Fantômas   \n",
       "3  tt0003165  Fantômas: The Dead Man Who Killed       Le mort qui tue   \n",
       "4  tt0003419              The Student of Prague  Der Student von Prag   \n",
       "\n",
       "                    genres  startYear  runtimeMinutes  averageRating  \\\n",
       "0  Adventure,Drama,Fantasy       1911              71            7.0   \n",
       "1                    Drama       1913              96            7.0   \n",
       "2              Crime,Drama       1913              61            7.0   \n",
       "3      Crime,Drama,Mystery       1913              90            7.0   \n",
       "4     Drama,Fantasy,Horror       1913              85            6.5   \n",
       "\n",
       "   numVotes  scoreIMDB                      directors  \\\n",
       "0    2693.0   6.761656  nm0078205,nm0209738,nm0655824   \n",
       "1    1157.0   6.591931                      nm0803705   \n",
       "2    1505.0   6.648621                      nm0275421   \n",
       "3    1176.0   6.595494                      nm0275421   \n",
       "4    2010.0   6.373686            nm0753233,nm0917467   \n",
       "\n",
       "                         writers  \n",
       "0                      nm0019604  \n",
       "1            nm0472236,nm0803705  \n",
       "2  nm0019855,nm0275421,nm0816232  \n",
       "3  nm0019855,nm0275421,nm0816232  \n",
       "4            nm0263912,nm0210503  "
      ]
     },
     "execution_count": 24,
     "metadata": {},
     "output_type": "execute_result"
    }
   ],
   "source": [
    "base_finale = pd.merge(title_basics_ratings, \n",
    "                       title_crew,\n",
    "                       how=\"left\", \n",
    "                       left_on='tconst',\n",
    "                       right_on='tconst')\n",
    "base_finale.head()"
   ]
  },
  {
   "cell_type": "code",
   "execution_count": 25,
   "metadata": {},
   "outputs": [],
   "source": [
    "# nettoyage des Nan\n",
    "base_finale.dropna(subset=['directors','writers'], inplace = True)"
   ]
  },
  {
   "cell_type": "markdown",
   "metadata": {},
   "source": [
    "### Sélection et ajout des 3 principaux acteurs de chaque film dans la base finale"
   ]
  },
  {
   "cell_type": "code",
   "execution_count": 26,
   "metadata": {},
   "outputs": [],
   "source": [
    "#Select sur la base Principals des acteurs numérotées 1 à 3 dans la colonne Ordering\n",
    "title_principals1 = title_principals[(title_principals['ordering'] == 1) | (title_principals['ordering'] == 2) | (title_principals['ordering'] == 3)]"
   ]
  },
  {
   "cell_type": "code",
   "execution_count": 27,
   "metadata": {},
   "outputs": [],
   "source": [
    "#pivot pour obtenir le nm des acteurs de chaque films en colonnes\n",
    "acteurs_3 = title_principals1.pivot( index= 'tconst', columns = 'ordering', values = 'nconst')"
   ]
  },
  {
   "cell_type": "code",
   "execution_count": 28,
   "metadata": {},
   "outputs": [
    {
     "data": {
      "text/html": [
       "<div>\n",
       "<style scoped>\n",
       "    .dataframe tbody tr th:only-of-type {\n",
       "        vertical-align: middle;\n",
       "    }\n",
       "\n",
       "    .dataframe tbody tr th {\n",
       "        vertical-align: top;\n",
       "    }\n",
       "\n",
       "    .dataframe thead th {\n",
       "        text-align: right;\n",
       "    }\n",
       "</style>\n",
       "<table border=\"1\" class=\"dataframe\">\n",
       "  <thead>\n",
       "    <tr style=\"text-align: right;\">\n",
       "      <th></th>\n",
       "      <th>tconst</th>\n",
       "      <th>primaryTitle</th>\n",
       "      <th>originalTitle</th>\n",
       "      <th>genres</th>\n",
       "      <th>startYear</th>\n",
       "      <th>runtimeMinutes</th>\n",
       "      <th>averageRating</th>\n",
       "      <th>numVotes</th>\n",
       "      <th>scoreIMDB</th>\n",
       "      <th>directors</th>\n",
       "      <th>writers</th>\n",
       "      <th>1</th>\n",
       "      <th>2</th>\n",
       "      <th>3</th>\n",
       "    </tr>\n",
       "  </thead>\n",
       "  <tbody>\n",
       "    <tr>\n",
       "      <th>0</th>\n",
       "      <td>tt0002130</td>\n",
       "      <td>Dante's Inferno</td>\n",
       "      <td>L'Inferno</td>\n",
       "      <td>Adventure,Drama,Fantasy</td>\n",
       "      <td>1911</td>\n",
       "      <td>71</td>\n",
       "      <td>7.0</td>\n",
       "      <td>2693.0</td>\n",
       "      <td>6.761656</td>\n",
       "      <td>nm0078205,nm0209738,nm0655824</td>\n",
       "      <td>nm0019604</td>\n",
       "      <td>nm0660139</td>\n",
       "      <td>nm0685283</td>\n",
       "      <td>nm0209738</td>\n",
       "    </tr>\n",
       "    <tr>\n",
       "      <th>1</th>\n",
       "      <td>tt0003014</td>\n",
       "      <td>Ingeborg Holm</td>\n",
       "      <td>Ingeborg Holm</td>\n",
       "      <td>Drama</td>\n",
       "      <td>1913</td>\n",
       "      <td>96</td>\n",
       "      <td>7.0</td>\n",
       "      <td>1157.0</td>\n",
       "      <td>6.591931</td>\n",
       "      <td>nm0803705</td>\n",
       "      <td>nm0472236,nm0803705</td>\n",
       "      <td>nm0096737</td>\n",
       "      <td>nm0511806</td>\n",
       "      <td>nm0511903</td>\n",
       "    </tr>\n",
       "    <tr>\n",
       "      <th>2</th>\n",
       "      <td>tt0003037</td>\n",
       "      <td>Fantomas: The Man in Black</td>\n",
       "      <td>Juve contre Fantômas</td>\n",
       "      <td>Crime,Drama</td>\n",
       "      <td>1913</td>\n",
       "      <td>61</td>\n",
       "      <td>7.0</td>\n",
       "      <td>1505.0</td>\n",
       "      <td>6.648621</td>\n",
       "      <td>nm0275421</td>\n",
       "      <td>nm0019855,nm0275421,nm0816232</td>\n",
       "      <td>nm0622772</td>\n",
       "      <td>nm0107631</td>\n",
       "      <td>nm0577476</td>\n",
       "    </tr>\n",
       "    <tr>\n",
       "      <th>3</th>\n",
       "      <td>tt0003165</td>\n",
       "      <td>Fantômas: The Dead Man Who Killed</td>\n",
       "      <td>Le mort qui tue</td>\n",
       "      <td>Crime,Drama,Mystery</td>\n",
       "      <td>1913</td>\n",
       "      <td>90</td>\n",
       "      <td>7.0</td>\n",
       "      <td>1176.0</td>\n",
       "      <td>6.595494</td>\n",
       "      <td>nm0275421</td>\n",
       "      <td>nm0019855,nm0275421,nm0816232</td>\n",
       "      <td>nm0622772</td>\n",
       "      <td>nm0107631</td>\n",
       "      <td>nm0577476</td>\n",
       "    </tr>\n",
       "    <tr>\n",
       "      <th>4</th>\n",
       "      <td>tt0003419</td>\n",
       "      <td>The Student of Prague</td>\n",
       "      <td>Der Student von Prag</td>\n",
       "      <td>Drama,Fantasy,Horror</td>\n",
       "      <td>1913</td>\n",
       "      <td>85</td>\n",
       "      <td>6.5</td>\n",
       "      <td>2010.0</td>\n",
       "      <td>6.373686</td>\n",
       "      <td>nm0753233,nm0917467</td>\n",
       "      <td>nm0263912,nm0210503</td>\n",
       "      <td>nm0917467</td>\n",
       "      <td>nm0074186</td>\n",
       "      <td>nm0758802</td>\n",
       "    </tr>\n",
       "  </tbody>\n",
       "</table>\n",
       "</div>"
      ],
      "text/plain": [
       "      tconst                       primaryTitle         originalTitle  \\\n",
       "0  tt0002130                    Dante's Inferno             L'Inferno   \n",
       "1  tt0003014                      Ingeborg Holm         Ingeborg Holm   \n",
       "2  tt0003037         Fantomas: The Man in Black  Juve contre Fantômas   \n",
       "3  tt0003165  Fantômas: The Dead Man Who Killed       Le mort qui tue   \n",
       "4  tt0003419              The Student of Prague  Der Student von Prag   \n",
       "\n",
       "                    genres  startYear  runtimeMinutes  averageRating  \\\n",
       "0  Adventure,Drama,Fantasy       1911              71            7.0   \n",
       "1                    Drama       1913              96            7.0   \n",
       "2              Crime,Drama       1913              61            7.0   \n",
       "3      Crime,Drama,Mystery       1913              90            7.0   \n",
       "4     Drama,Fantasy,Horror       1913              85            6.5   \n",
       "\n",
       "   numVotes  scoreIMDB                      directors  \\\n",
       "0    2693.0   6.761656  nm0078205,nm0209738,nm0655824   \n",
       "1    1157.0   6.591931                      nm0803705   \n",
       "2    1505.0   6.648621                      nm0275421   \n",
       "3    1176.0   6.595494                      nm0275421   \n",
       "4    2010.0   6.373686            nm0753233,nm0917467   \n",
       "\n",
       "                         writers          1          2          3  \n",
       "0                      nm0019604  nm0660139  nm0685283  nm0209738  \n",
       "1            nm0472236,nm0803705  nm0096737  nm0511806  nm0511903  \n",
       "2  nm0019855,nm0275421,nm0816232  nm0622772  nm0107631  nm0577476  \n",
       "3  nm0019855,nm0275421,nm0816232  nm0622772  nm0107631  nm0577476  \n",
       "4            nm0263912,nm0210503  nm0917467  nm0074186  nm0758802  "
      ]
     },
     "execution_count": 28,
     "metadata": {},
     "output_type": "execute_result"
    }
   ],
   "source": [
    "#Ajout des 3 colonnes acteurs à la base finale\n",
    "base_finale = pd.merge(base_finale, \n",
    "                       acteurs_3, \n",
    "                       how=\"left\", \n",
    "                       left_on='tconst',\n",
    "                       right_on='tconst')\n",
    "base_finale.head()"
   ]
  },
  {
   "cell_type": "code",
   "execution_count": 29,
   "metadata": {},
   "outputs": [],
   "source": [
    "# on renomme les colonnes\n",
    "base_finale.rename(columns={1: \"actor1\", 2: \"actor2\", 3: \"actor3\"}, inplace=True)"
   ]
  },
  {
   "cell_type": "code",
   "execution_count": 30,
   "metadata": {},
   "outputs": [],
   "source": [
    "# ajout d'une colonne 'actors' sous le même format que les colonnes 'directors' et 'writers'\n",
    "base_finale['actor2'].fillna('0', inplace = True)\n",
    "base_finale['actor3'].fillna('0', inplace = True)\n",
    "base_finale['actors'] = base_finale['actor1']+','+ base_finale['actor2'] +','+ base_finale['actor3']"
   ]
  },
  {
   "cell_type": "code",
   "execution_count": 31,
   "metadata": {},
   "outputs": [],
   "source": [
    "# on supprime les colones 'actor2' et 'actor3' qui ne nous serviront plus\n",
    "base_finale.drop(columns=['actor2', 'actor3'], inplace = True)"
   ]
  },
  {
   "cell_type": "markdown",
   "metadata": {},
   "source": [
    "### Genres : split + get dummies pour pouvoir utiliser la colonne genre"
   ]
  },
  {
   "cell_type": "code",
   "execution_count": 32,
   "metadata": {},
   "outputs": [],
   "source": [
    "# split de la colonne 'genres' (2mn environ)\n",
    "genres_split = base_finale['genres'].apply(lambda x : pd.Series(str(x).split(',')))"
   ]
  },
  {
   "cell_type": "code",
   "execution_count": 33,
   "metadata": {},
   "outputs": [],
   "source": [
    "# renommage colonnes\n",
    "genres_split.rename(columns={0: \"genre1\", 1: \"genre2\", 2: \"genre3\"}, inplace=True)"
   ]
  },
  {
   "cell_type": "code",
   "execution_count": 34,
   "metadata": {},
   "outputs": [],
   "source": [
    "# get_dummies sur les colonnes 'genre'\n",
    "genres_dummies = pd.get_dummies(genres_split, prefix=['','',''], prefix_sep=['','',''], columns=['genre1', 'genre2', 'genre3'])"
   ]
  },
  {
   "cell_type": "code",
   "execution_count": 35,
   "metadata": {},
   "outputs": [],
   "source": [
    "# cumul des colonnes portant le même nom\n",
    "genres_dummies = genres_dummies.T.groupby([s for s in genres_dummies.T.index.values]).sum().T"
   ]
  },
  {
   "cell_type": "code",
   "execution_count": 36,
   "metadata": {},
   "outputs": [
    {
     "data": {
      "text/plain": [
       "Index(['Action', 'Adult', 'Adventure', 'Animation', 'Biography', 'Comedy',\n",
       "       'Crime', 'Documentary', 'Drama', 'Family', 'Fantasy', 'Film-Noir',\n",
       "       'History', 'Horror', 'Music', 'Musical', 'Mystery', 'News', 'Romance',\n",
       "       'Sci-Fi', 'Sport', 'Thriller', 'War', 'Western'],\n",
       "      dtype='object')"
      ]
     },
     "execution_count": 36,
     "metadata": {},
     "output_type": "execute_result"
    }
   ],
   "source": [
    "genres_dummies.columns"
   ]
  },
  {
   "cell_type": "code",
   "execution_count": 37,
   "metadata": {},
   "outputs": [],
   "source": [
    "# Concatenation des dataframes base_finale, genres_split, genres_dummies\n",
    "base_finale =  pd.concat([base_finale, genres_split], axis=1)\n",
    "base_finale =  pd.concat([base_finale, genres_dummies], axis=1)"
   ]
  },
  {
   "cell_type": "markdown",
   "metadata": {},
   "source": [
    "### Writers : split de la liste dans des colonnes et sélection des 2 premiers des listes"
   ]
  },
  {
   "cell_type": "code",
   "execution_count": 42,
   "metadata": {},
   "outputs": [],
   "source": [
    "# split de la colonne writers\n",
    "writers_split = base_finale['writers'].apply(lambda x : pd.Series(str(x).split(',')))"
   ]
  },
  {
   "cell_type": "code",
   "execution_count": 43,
   "metadata": {},
   "outputs": [],
   "source": [
    "# on ne garde que le premier writer lorsqu'il y en a plusieurs\n",
    "writers_split = writers_split.iloc[:,:1]"
   ]
  },
  {
   "cell_type": "code",
   "execution_count": 45,
   "metadata": {},
   "outputs": [],
   "source": [
    "# on renomme la colonne\n",
    "writers_split.rename(columns={0: \"writer1\"}, inplace=True)"
   ]
  },
  {
   "cell_type": "code",
   "execution_count": 46,
   "metadata": {},
   "outputs": [],
   "source": [
    "# Concatenation des dataframes base_finale, genres_split\n",
    "base_finale =  pd.concat([base_finale, writers_split], axis=1)"
   ]
  },
  {
   "cell_type": "markdown",
   "metadata": {},
   "source": [
    "### Directors : split et seléction des 2 premiers"
   ]
  },
  {
   "cell_type": "code",
   "execution_count": 47,
   "metadata": {},
   "outputs": [],
   "source": [
    "# split de la colonne directors\n",
    "direct_split = base_finale['directors'].apply(lambda x : pd.Series(str(x).split(',')))"
   ]
  },
  {
   "cell_type": "code",
   "execution_count": 48,
   "metadata": {},
   "outputs": [],
   "source": [
    "# on ne garde que le premier director lorsqu'il y en a plusieurs\n",
    "direct_split = direct_split.iloc[:,:1]"
   ]
  },
  {
   "cell_type": "code",
   "execution_count": 49,
   "metadata": {},
   "outputs": [],
   "source": [
    "# on renomme la colonne\n",
    "direct_split.rename(columns={0: \"director1\"}, inplace=True)"
   ]
  },
  {
   "cell_type": "code",
   "execution_count": 50,
   "metadata": {},
   "outputs": [],
   "source": [
    "# Concatenation des dataframes base_finale, genres_split\n",
    "base_finale =  pd.concat([base_finale, direct_split], axis=1)"
   ]
  },
  {
   "cell_type": "markdown",
   "metadata": {},
   "source": [
    "### Ajout d'un colonne avec les temps de films normalisés\n",
    "N'ayant pas de très bons résultat sur le machine learning on a fait le choix de normaliser 'à la main' la colonne runtime afin de réduire les distances et d'avoir moins d'incidence par rapport aux autres variables"
   ]
  },
  {
   "cell_type": "code",
   "execution_count": 51,
   "metadata": {},
   "outputs": [],
   "source": [
    "def normalisation(value) :\n",
    "#On avait gardé que les films entre 58 et 270 minutes     \n",
    "    return (value-58)/(270-58)\n",
    "\n",
    "base_finale['runtimeMinutes_norm'] = base_finale['runtimeMinutes'].apply(normalisation)"
   ]
  },
  {
   "cell_type": "markdown",
   "metadata": {},
   "source": [
    "### Ajout des titres de films en français"
   ]
  },
  {
   "cell_type": "code",
   "execution_count": 52,
   "metadata": {},
   "outputs": [],
   "source": [
    "# Suppression des types alternative, tv, working, video, dvd, festival\n",
    "work_akas_FR = work_akas_FR.drop(work_akas_FR[work_akas_FR['types'].isin(['alternative', 'tv', 'working', 'video', 'dvd', 'festival'])].index)"
   ]
  },
  {
   "cell_type": "code",
   "execution_count": 53,
   "metadata": {},
   "outputs": [],
   "source": [
    "# Tri par code IMDb et types (devrait placer le type imdbDisplay en dernier pour les akas multiples)\n",
    "work_akas_FR = work_akas_FR.sort_values(by=['titleId', 'types'], ascending=True)"
   ]
  },
  {
   "cell_type": "code",
   "execution_count": 54,
   "metadata": {},
   "outputs": [],
   "source": [
    "# Suppression des doublons sur le code IMDb (on conserve le dernier qui est imdbDisplay lorsqu'il éxiste)\n",
    "work_akas_FR = work_akas_FR.drop_duplicates(subset='titleId', keep=\"last\")"
   ]
  },
  {
   "cell_type": "code",
   "execution_count": 55,
   "metadata": {},
   "outputs": [],
   "source": [
    "# Réduction du dataframe (on ne conserve que la clé et le titre)\n",
    "work_akas_FR = work_akas_FR[['titleId', 'title']]"
   ]
  },
  {
   "cell_type": "code",
   "execution_count": 56,
   "metadata": {},
   "outputs": [
    {
     "data": {
      "text/html": [
       "<div>\n",
       "<style scoped>\n",
       "    .dataframe tbody tr th:only-of-type {\n",
       "        vertical-align: middle;\n",
       "    }\n",
       "\n",
       "    .dataframe tbody tr th {\n",
       "        vertical-align: top;\n",
       "    }\n",
       "\n",
       "    .dataframe thead th {\n",
       "        text-align: right;\n",
       "    }\n",
       "</style>\n",
       "<table border=\"1\" class=\"dataframe\">\n",
       "  <thead>\n",
       "    <tr style=\"text-align: right;\">\n",
       "      <th></th>\n",
       "      <th>tconst</th>\n",
       "      <th>primaryTitle</th>\n",
       "      <th>originalTitle</th>\n",
       "      <th>genres</th>\n",
       "      <th>startYear</th>\n",
       "      <th>runtimeMinutes</th>\n",
       "      <th>averageRating</th>\n",
       "      <th>numVotes</th>\n",
       "      <th>scoreIMDB</th>\n",
       "      <th>directors</th>\n",
       "      <th>...</th>\n",
       "      <th>Sci-Fi</th>\n",
       "      <th>Sport</th>\n",
       "      <th>Thriller</th>\n",
       "      <th>War</th>\n",
       "      <th>Western</th>\n",
       "      <th>writer1</th>\n",
       "      <th>director1</th>\n",
       "      <th>runtimeMinutes_norm</th>\n",
       "      <th>titleId</th>\n",
       "      <th>title</th>\n",
       "    </tr>\n",
       "  </thead>\n",
       "  <tbody>\n",
       "    <tr>\n",
       "      <th>0</th>\n",
       "      <td>tt0002130</td>\n",
       "      <td>Dante's Inferno</td>\n",
       "      <td>L'Inferno</td>\n",
       "      <td>Adventure,Drama,Fantasy</td>\n",
       "      <td>1911</td>\n",
       "      <td>71</td>\n",
       "      <td>7.0</td>\n",
       "      <td>2693.0</td>\n",
       "      <td>6.761656</td>\n",
       "      <td>nm0078205,nm0209738,nm0655824</td>\n",
       "      <td>...</td>\n",
       "      <td>0</td>\n",
       "      <td>0</td>\n",
       "      <td>0</td>\n",
       "      <td>0</td>\n",
       "      <td>0</td>\n",
       "      <td>nm0019604</td>\n",
       "      <td>nm0078205</td>\n",
       "      <td>0.061321</td>\n",
       "      <td>tt0002130</td>\n",
       "      <td>L'enfer</td>\n",
       "    </tr>\n",
       "    <tr>\n",
       "      <th>1</th>\n",
       "      <td>tt0003014</td>\n",
       "      <td>Ingeborg Holm</td>\n",
       "      <td>Ingeborg Holm</td>\n",
       "      <td>Drama</td>\n",
       "      <td>1913</td>\n",
       "      <td>96</td>\n",
       "      <td>7.0</td>\n",
       "      <td>1157.0</td>\n",
       "      <td>6.591931</td>\n",
       "      <td>nm0803705</td>\n",
       "      <td>...</td>\n",
       "      <td>0</td>\n",
       "      <td>0</td>\n",
       "      <td>0</td>\n",
       "      <td>0</td>\n",
       "      <td>0</td>\n",
       "      <td>nm0472236</td>\n",
       "      <td>nm0803705</td>\n",
       "      <td>0.179245</td>\n",
       "      <td>NaN</td>\n",
       "      <td>NaN</td>\n",
       "    </tr>\n",
       "    <tr>\n",
       "      <th>2</th>\n",
       "      <td>tt0003037</td>\n",
       "      <td>Fantomas: The Man in Black</td>\n",
       "      <td>Juve contre Fantômas</td>\n",
       "      <td>Crime,Drama</td>\n",
       "      <td>1913</td>\n",
       "      <td>61</td>\n",
       "      <td>7.0</td>\n",
       "      <td>1505.0</td>\n",
       "      <td>6.648621</td>\n",
       "      <td>nm0275421</td>\n",
       "      <td>...</td>\n",
       "      <td>0</td>\n",
       "      <td>0</td>\n",
       "      <td>0</td>\n",
       "      <td>0</td>\n",
       "      <td>0</td>\n",
       "      <td>nm0019855</td>\n",
       "      <td>nm0275421</td>\n",
       "      <td>0.014151</td>\n",
       "      <td>tt0003037</td>\n",
       "      <td>Juve contre Fantômas</td>\n",
       "    </tr>\n",
       "    <tr>\n",
       "      <th>3</th>\n",
       "      <td>tt0003165</td>\n",
       "      <td>Fantômas: The Dead Man Who Killed</td>\n",
       "      <td>Le mort qui tue</td>\n",
       "      <td>Crime,Drama,Mystery</td>\n",
       "      <td>1913</td>\n",
       "      <td>90</td>\n",
       "      <td>7.0</td>\n",
       "      <td>1176.0</td>\n",
       "      <td>6.595494</td>\n",
       "      <td>nm0275421</td>\n",
       "      <td>...</td>\n",
       "      <td>0</td>\n",
       "      <td>0</td>\n",
       "      <td>0</td>\n",
       "      <td>0</td>\n",
       "      <td>0</td>\n",
       "      <td>nm0019855</td>\n",
       "      <td>nm0275421</td>\n",
       "      <td>0.150943</td>\n",
       "      <td>tt0003165</td>\n",
       "      <td>Le mort qui tue</td>\n",
       "    </tr>\n",
       "    <tr>\n",
       "      <th>4</th>\n",
       "      <td>tt0003419</td>\n",
       "      <td>The Student of Prague</td>\n",
       "      <td>Der Student von Prag</td>\n",
       "      <td>Drama,Fantasy,Horror</td>\n",
       "      <td>1913</td>\n",
       "      <td>85</td>\n",
       "      <td>6.5</td>\n",
       "      <td>2010.0</td>\n",
       "      <td>6.373686</td>\n",
       "      <td>nm0753233,nm0917467</td>\n",
       "      <td>...</td>\n",
       "      <td>0</td>\n",
       "      <td>0</td>\n",
       "      <td>0</td>\n",
       "      <td>0</td>\n",
       "      <td>0</td>\n",
       "      <td>nm0263912</td>\n",
       "      <td>nm0753233</td>\n",
       "      <td>0.127358</td>\n",
       "      <td>tt0003419</td>\n",
       "      <td>L'étudiant de Prague</td>\n",
       "    </tr>\n",
       "    <tr>\n",
       "      <th>...</th>\n",
       "      <td>...</td>\n",
       "      <td>...</td>\n",
       "      <td>...</td>\n",
       "      <td>...</td>\n",
       "      <td>...</td>\n",
       "      <td>...</td>\n",
       "      <td>...</td>\n",
       "      <td>...</td>\n",
       "      <td>...</td>\n",
       "      <td>...</td>\n",
       "      <td>...</td>\n",
       "      <td>...</td>\n",
       "      <td>...</td>\n",
       "      <td>...</td>\n",
       "      <td>...</td>\n",
       "      <td>...</td>\n",
       "      <td>...</td>\n",
       "      <td>...</td>\n",
       "      <td>...</td>\n",
       "      <td>...</td>\n",
       "      <td>...</td>\n",
       "    </tr>\n",
       "    <tr>\n",
       "      <th>35609</th>\n",
       "      <td>tt9902160</td>\n",
       "      <td>Herself</td>\n",
       "      <td>Herself</td>\n",
       "      <td>Drama</td>\n",
       "      <td>2020</td>\n",
       "      <td>97</td>\n",
       "      <td>7.0</td>\n",
       "      <td>2798.0</td>\n",
       "      <td>6.768245</td>\n",
       "      <td>nm1630273</td>\n",
       "      <td>...</td>\n",
       "      <td>0</td>\n",
       "      <td>0</td>\n",
       "      <td>0</td>\n",
       "      <td>0</td>\n",
       "      <td>0</td>\n",
       "      <td>nm7434342</td>\n",
       "      <td>nm1630273</td>\n",
       "      <td>0.183962</td>\n",
       "      <td>tt9902160</td>\n",
       "      <td>Herself</td>\n",
       "    </tr>\n",
       "    <tr>\n",
       "      <th>35610</th>\n",
       "      <td>tt9904802</td>\n",
       "      <td>Enemy Lines</td>\n",
       "      <td>Enemy Lines</td>\n",
       "      <td>War</td>\n",
       "      <td>2020</td>\n",
       "      <td>92</td>\n",
       "      <td>4.5</td>\n",
       "      <td>1410.0</td>\n",
       "      <td>5.172114</td>\n",
       "      <td>nm0052054</td>\n",
       "      <td>...</td>\n",
       "      <td>0</td>\n",
       "      <td>0</td>\n",
       "      <td>0</td>\n",
       "      <td>1</td>\n",
       "      <td>0</td>\n",
       "      <td>nm0942647</td>\n",
       "      <td>nm0052054</td>\n",
       "      <td>0.160377</td>\n",
       "      <td>NaN</td>\n",
       "      <td>NaN</td>\n",
       "    </tr>\n",
       "    <tr>\n",
       "      <th>35611</th>\n",
       "      <td>tt9911196</td>\n",
       "      <td>The Marriage Escape</td>\n",
       "      <td>De beentjes van Sint-Hildegard</td>\n",
       "      <td>Comedy,Drama</td>\n",
       "      <td>2020</td>\n",
       "      <td>103</td>\n",
       "      <td>7.6</td>\n",
       "      <td>3204.0</td>\n",
       "      <td>7.247906</td>\n",
       "      <td>nm0631590</td>\n",
       "      <td>...</td>\n",
       "      <td>0</td>\n",
       "      <td>0</td>\n",
       "      <td>0</td>\n",
       "      <td>0</td>\n",
       "      <td>0</td>\n",
       "      <td>nm2063122</td>\n",
       "      <td>nm0631590</td>\n",
       "      <td>0.212264</td>\n",
       "      <td>tt9911196</td>\n",
       "      <td>De Beentjes van Sint-Hildegard</td>\n",
       "    </tr>\n",
       "    <tr>\n",
       "      <th>35612</th>\n",
       "      <td>tt9916270</td>\n",
       "      <td>Il talento del calabrone</td>\n",
       "      <td>Il talento del calabrone</td>\n",
       "      <td>Thriller</td>\n",
       "      <td>2020</td>\n",
       "      <td>84</td>\n",
       "      <td>5.8</td>\n",
       "      <td>1201.0</td>\n",
       "      <td>5.945295</td>\n",
       "      <td>nm1480867</td>\n",
       "      <td>...</td>\n",
       "      <td>0</td>\n",
       "      <td>0</td>\n",
       "      <td>1</td>\n",
       "      <td>0</td>\n",
       "      <td>0</td>\n",
       "      <td>nm1480867</td>\n",
       "      <td>nm1480867</td>\n",
       "      <td>0.122642</td>\n",
       "      <td>NaN</td>\n",
       "      <td>NaN</td>\n",
       "    </tr>\n",
       "    <tr>\n",
       "      <th>35613</th>\n",
       "      <td>tt9916362</td>\n",
       "      <td>Coven</td>\n",
       "      <td>Akelarre</td>\n",
       "      <td>Drama,History</td>\n",
       "      <td>2020</td>\n",
       "      <td>92</td>\n",
       "      <td>6.4</td>\n",
       "      <td>4021.0</td>\n",
       "      <td>6.344193</td>\n",
       "      <td>nm1893148</td>\n",
       "      <td>...</td>\n",
       "      <td>0</td>\n",
       "      <td>0</td>\n",
       "      <td>0</td>\n",
       "      <td>0</td>\n",
       "      <td>0</td>\n",
       "      <td>nm1893148</td>\n",
       "      <td>nm1893148</td>\n",
       "      <td>0.160377</td>\n",
       "      <td>tt9916362</td>\n",
       "      <td>Les sorcières d'Akelarre</td>\n",
       "    </tr>\n",
       "  </tbody>\n",
       "</table>\n",
       "<p>35614 rows × 45 columns</p>\n",
       "</div>"
      ],
      "text/plain": [
       "          tconst                       primaryTitle  \\\n",
       "0      tt0002130                    Dante's Inferno   \n",
       "1      tt0003014                      Ingeborg Holm   \n",
       "2      tt0003037         Fantomas: The Man in Black   \n",
       "3      tt0003165  Fantômas: The Dead Man Who Killed   \n",
       "4      tt0003419              The Student of Prague   \n",
       "...          ...                                ...   \n",
       "35609  tt9902160                            Herself   \n",
       "35610  tt9904802                        Enemy Lines   \n",
       "35611  tt9911196                The Marriage Escape   \n",
       "35612  tt9916270           Il talento del calabrone   \n",
       "35613  tt9916362                              Coven   \n",
       "\n",
       "                        originalTitle                   genres  startYear  \\\n",
       "0                           L'Inferno  Adventure,Drama,Fantasy       1911   \n",
       "1                       Ingeborg Holm                    Drama       1913   \n",
       "2                Juve contre Fantômas              Crime,Drama       1913   \n",
       "3                     Le mort qui tue      Crime,Drama,Mystery       1913   \n",
       "4                Der Student von Prag     Drama,Fantasy,Horror       1913   \n",
       "...                               ...                      ...        ...   \n",
       "35609                         Herself                    Drama       2020   \n",
       "35610                     Enemy Lines                      War       2020   \n",
       "35611  De beentjes van Sint-Hildegard             Comedy,Drama       2020   \n",
       "35612        Il talento del calabrone                 Thriller       2020   \n",
       "35613                        Akelarre            Drama,History       2020   \n",
       "\n",
       "       runtimeMinutes  averageRating  numVotes  scoreIMDB  \\\n",
       "0                  71            7.0    2693.0   6.761656   \n",
       "1                  96            7.0    1157.0   6.591931   \n",
       "2                  61            7.0    1505.0   6.648621   \n",
       "3                  90            7.0    1176.0   6.595494   \n",
       "4                  85            6.5    2010.0   6.373686   \n",
       "...               ...            ...       ...        ...   \n",
       "35609              97            7.0    2798.0   6.768245   \n",
       "35610              92            4.5    1410.0   5.172114   \n",
       "35611             103            7.6    3204.0   7.247906   \n",
       "35612              84            5.8    1201.0   5.945295   \n",
       "35613              92            6.4    4021.0   6.344193   \n",
       "\n",
       "                           directors  ... Sci-Fi Sport Thriller War Western  \\\n",
       "0      nm0078205,nm0209738,nm0655824  ...      0     0        0   0       0   \n",
       "1                          nm0803705  ...      0     0        0   0       0   \n",
       "2                          nm0275421  ...      0     0        0   0       0   \n",
       "3                          nm0275421  ...      0     0        0   0       0   \n",
       "4                nm0753233,nm0917467  ...      0     0        0   0       0   \n",
       "...                              ...  ...    ...   ...      ...  ..     ...   \n",
       "35609                      nm1630273  ...      0     0        0   0       0   \n",
       "35610                      nm0052054  ...      0     0        0   1       0   \n",
       "35611                      nm0631590  ...      0     0        0   0       0   \n",
       "35612                      nm1480867  ...      0     0        1   0       0   \n",
       "35613                      nm1893148  ...      0     0        0   0       0   \n",
       "\n",
       "         writer1  director1  runtimeMinutes_norm    titleId  \\\n",
       "0      nm0019604  nm0078205             0.061321  tt0002130   \n",
       "1      nm0472236  nm0803705             0.179245        NaN   \n",
       "2      nm0019855  nm0275421             0.014151  tt0003037   \n",
       "3      nm0019855  nm0275421             0.150943  tt0003165   \n",
       "4      nm0263912  nm0753233             0.127358  tt0003419   \n",
       "...          ...        ...                  ...        ...   \n",
       "35609  nm7434342  nm1630273             0.183962  tt9902160   \n",
       "35610  nm0942647  nm0052054             0.160377        NaN   \n",
       "35611  nm2063122  nm0631590             0.212264  tt9911196   \n",
       "35612  nm1480867  nm1480867             0.122642        NaN   \n",
       "35613  nm1893148  nm1893148             0.160377  tt9916362   \n",
       "\n",
       "                                title  \n",
       "0                             L'enfer  \n",
       "1                                 NaN  \n",
       "2                Juve contre Fantômas  \n",
       "3                     Le mort qui tue  \n",
       "4                L'étudiant de Prague  \n",
       "...                               ...  \n",
       "35609                         Herself  \n",
       "35610                             NaN  \n",
       "35611  De Beentjes van Sint-Hildegard  \n",
       "35612                             NaN  \n",
       "35613        Les sorcières d'Akelarre  \n",
       "\n",
       "[35614 rows x 45 columns]"
      ]
     },
     "execution_count": 56,
     "metadata": {},
     "output_type": "execute_result"
    }
   ],
   "source": [
    "# Merge de base_movies avec work_akas_FR\n",
    "base_finale = pd.merge(base_finale, \n",
    "                        work_akas_FR, \n",
    "                        how=\"left\", \n",
    "                        left_on='tconst',\n",
    "                        right_on='titleId')\n",
    "base_finale"
   ]
  },
  {
   "cell_type": "code",
   "execution_count": 57,
   "metadata": {},
   "outputs": [],
   "source": [
    "# suppression des colonnes inutiles \n",
    "base_finale = base_finale.drop(['titleId'], axis = 1)"
   ]
  },
  {
   "cell_type": "code",
   "execution_count": 58,
   "metadata": {},
   "outputs": [],
   "source": [
    "# renommage de la colonne titelFR\n",
    "base_finale.rename(columns={'title': 'titleFR'}, inplace=True)"
   ]
  },
  {
   "cell_type": "code",
   "execution_count": 59,
   "metadata": {},
   "outputs": [],
   "source": [
    "# Comparaisons entre les 3 titres\n",
    "# Si primaryTitle != originalTitle et originalTitle = titleFR, on considère que c'est un film FR, on initialise un indicateur 'FR'\n",
    "base_finale['FR'] = (base_finale['originalTitle'] == base_finale['titleFR']) & (base_finale['originalTitle'] != base_finale['primaryTitle']) "
   ]
  },
  {
   "cell_type": "markdown",
   "metadata": {},
   "source": [
    "### Réorganisation des colonnes"
   ]
  },
  {
   "cell_type": "code",
   "execution_count": 60,
   "metadata": {},
   "outputs": [
    {
     "data": {
      "text/plain": [
       "Index(['tconst', 'primaryTitle', 'originalTitle', 'genres', 'startYear',\n",
       "       'runtimeMinutes', 'averageRating', 'numVotes', 'scoreIMDB', 'directors',\n",
       "       'writers', 'actor1', 'actors', 'genre1', 'genre2', 'genre3', 'Action',\n",
       "       'Adult', 'Adventure', 'Animation', 'Biography', 'Comedy', 'Crime',\n",
       "       'Documentary', 'Drama', 'Family', 'Fantasy', 'Film-Noir', 'History',\n",
       "       'Horror', 'Music', 'Musical', 'Mystery', 'News', 'Romance', 'Sci-Fi',\n",
       "       'Sport', 'Thriller', 'War', 'Western', 'writer1', 'director1',\n",
       "       'runtimeMinutes_norm', 'titleFR', 'FR'],\n",
       "      dtype='object')"
      ]
     },
     "execution_count": 60,
     "metadata": {},
     "output_type": "execute_result"
    }
   ],
   "source": [
    "base_finale.columns\n"
   ]
  },
  {
   "cell_type": "code",
   "execution_count": 63,
   "metadata": {},
   "outputs": [],
   "source": [
    "base_finale = base_finale[['tconst', 'primaryTitle', 'originalTitle', 'titleFR', 'FR', 'genres',\n",
    " 'startYear', 'runtimeMinutes','runtimeMinutes_norm', 'averageRating', 'numVotes','scoreIMDB', \n",
    " 'directors', 'writers',  'actors',\n",
    " 'director1','writer1', 'actor1',\n",
    " 'genre1', 'genre2', 'genre3', \n",
    " 'Action', 'Adult', 'Adventure', 'Animation', 'Biography', 'Comedy', 'Crime', \n",
    " 'Documentary', 'Drama','Family', 'Fantasy', 'Film-Noir', 'History', 'Horror',\n",
    " 'Music','Musical', 'Mystery', 'News', 'Romance', 'Sci-Fi', 'Sport', 'Thriller',\n",
    " 'War', 'Western'\n",
    "]]"
   ]
  },
  {
   "cell_type": "code",
   "execution_count": null,
   "metadata": {},
   "outputs": [],
   "source": [
    "base_finale.to_csv(\"/base_movies.csv\", index = False)"
   ]
  }
 ],
 "metadata": {
  "interpreter": {
   "hash": "b0188ee77731033351b47724fd667d6558d003f1766149fc9a9aeeadf5b28d1b"
  },
  "kernelspec": {
   "display_name": "Python 3.8.8 64-bit ('base': conda)",
   "language": "python",
   "name": "python3"
  },
  "language_info": {
   "codemirror_mode": {
    "name": "ipython",
    "version": 3
   },
   "file_extension": ".py",
   "mimetype": "text/x-python",
   "name": "python",
   "nbconvert_exporter": "python",
   "pygments_lexer": "ipython3",
   "version": "3.8.8"
  },
  "orig_nbformat": 4
 },
 "nbformat": 4,
 "nbformat_minor": 2
}
